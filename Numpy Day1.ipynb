{
 "cells": [
  {
   "cell_type": "code",
   "execution_count": 1,
   "id": "f7eb3398-057e-4872-862e-4a55ddfde754",
   "metadata": {},
   "outputs": [],
   "source": [
    "import numpy as np"
   ]
  },
  {
   "cell_type": "code",
   "execution_count": 2,
   "id": "d308f117-98df-4c32-b316-46e3d74835ed",
   "metadata": {},
   "outputs": [],
   "source": [
    "l = [1,2,3,4,4]"
   ]
  },
  {
   "cell_type": "code",
   "execution_count": 3,
   "id": "4a0c4dcc-6376-466e-b499-f9a7fa0f20ae",
   "metadata": {},
   "outputs": [
    {
     "data": {
      "text/plain": [
       "list"
      ]
     },
     "execution_count": 3,
     "metadata": {},
     "output_type": "execute_result"
    }
   ],
   "source": [
    "type(l)"
   ]
  },
  {
   "cell_type": "code",
   "execution_count": 4,
   "id": "412d9a9a-2235-4edd-be07-7b4a55e86e77",
   "metadata": {},
   "outputs": [
    {
     "data": {
      "text/plain": [
       "array([1, 2, 3, 4, 4])"
      ]
     },
     "execution_count": 4,
     "metadata": {},
     "output_type": "execute_result"
    }
   ],
   "source": [
    "# Converting python list to numpy array.\n",
    "np.array(l)"
   ]
  },
  {
   "cell_type": "code",
   "execution_count": 5,
   "id": "eb759e2b-803d-4dca-8a0e-7b56779a7087",
   "metadata": {},
   "outputs": [],
   "source": [
    "# Creating a numpy array.\n",
    "# Arrays must have symmetric dimensions.\n",
    "a1 = np.array([[1,2,3],[3,4,5]])"
   ]
  },
  {
   "cell_type": "code",
   "execution_count": 6,
   "id": "fd817d98-5809-48ea-9ba0-d03d80780b5f",
   "metadata": {},
   "outputs": [
    {
     "data": {
      "text/plain": [
       "array([[1, 2, 3],\n",
       "       [3, 4, 5]])"
      ]
     },
     "execution_count": 6,
     "metadata": {},
     "output_type": "execute_result"
    }
   ],
   "source": [
    "a1\n"
   ]
  },
  {
   "cell_type": "code",
   "execution_count": 7,
   "id": "7660d308-0dac-49cf-96cc-d309cf412483",
   "metadata": {},
   "outputs": [],
   "source": [
    "a2 = np.array([[[1,2,3],[4,5,6]]])"
   ]
  },
  {
   "cell_type": "code",
   "execution_count": 8,
   "id": "69d13a65-1788-4a1d-bda6-b78b82862928",
   "metadata": {},
   "outputs": [
    {
     "data": {
      "text/plain": [
       "array([[[1, 2, 3],\n",
       "        [4, 5, 6]]])"
      ]
     },
     "execution_count": 8,
     "metadata": {},
     "output_type": "execute_result"
    }
   ],
   "source": [
    "a2\n"
   ]
  },
  {
   "cell_type": "code",
   "execution_count": 9,
   "id": "4084b015-1566-4a5c-a9dd-47843517326c",
   "metadata": {},
   "outputs": [],
   "source": [
    "a = np.array([1,2,3,4,5])"
   ]
  },
  {
   "cell_type": "code",
   "execution_count": 10,
   "id": "62f901bc-a40a-4615-a7b4-601c7e12f0da",
   "metadata": {},
   "outputs": [
    {
     "data": {
      "text/plain": [
       "array([1, 2, 3, 4, 5])"
      ]
     },
     "execution_count": 10,
     "metadata": {},
     "output_type": "execute_result"
    }
   ],
   "source": [
    "a"
   ]
  },
  {
   "cell_type": "code",
   "execution_count": 11,
   "id": "cb0d0943-fa31-475b-974d-672f779c2680",
   "metadata": {},
   "outputs": [
    {
     "data": {
      "text/plain": [
       "1"
      ]
     },
     "execution_count": 11,
     "metadata": {},
     "output_type": "execute_result"
    }
   ],
   "source": [
    "# Checking the dimension of the array.\n",
    "a.ndim"
   ]
  },
  {
   "cell_type": "code",
   "execution_count": 12,
   "id": "3652f35d-4ca5-42d0-83b8-5124d52d1a4d",
   "metadata": {},
   "outputs": [
    {
     "data": {
      "text/plain": [
       "2"
      ]
     },
     "execution_count": 12,
     "metadata": {},
     "output_type": "execute_result"
    }
   ],
   "source": [
    "a1.ndim"
   ]
  },
  {
   "cell_type": "code",
   "execution_count": 13,
   "id": "7c3cd340-0484-4773-ba36-d3f14d8db659",
   "metadata": {},
   "outputs": [
    {
     "data": {
      "text/plain": [
       "3"
      ]
     },
     "execution_count": 13,
     "metadata": {},
     "output_type": "execute_result"
    }
   ],
   "source": [
    "a2.ndim"
   ]
  },
  {
   "cell_type": "code",
   "execution_count": 14,
   "id": "9cd1d997-eaa0-4f93-848c-fde22ec689fb",
   "metadata": {},
   "outputs": [],
   "source": [
    "a3 = np.array([[[1,2,3],[4,5,6]], [[1,2,3],[4,5,6]], [[1,2,3],[4,5,6]]])"
   ]
  },
  {
   "cell_type": "code",
   "execution_count": 15,
   "id": "5fb1d001-ef3a-4a25-84af-5042119d165f",
   "metadata": {},
   "outputs": [
    {
     "data": {
      "text/plain": [
       "3"
      ]
     },
     "execution_count": 15,
     "metadata": {},
     "output_type": "execute_result"
    }
   ],
   "source": [
    "a3.ndim"
   ]
  },
  {
   "cell_type": "code",
   "execution_count": 16,
   "id": "c702e5fa-776f-416a-a212-273ef3f3c079",
   "metadata": {},
   "outputs": [],
   "source": [
    "l = [1,2,3,4]"
   ]
  },
  {
   "cell_type": "code",
   "execution_count": 17,
   "id": "e5086fb2-d9b5-470c-b037-1e4c6dabd7c5",
   "metadata": {},
   "outputs": [],
   "source": [
    "a = np.asarray(l)"
   ]
  },
  {
   "cell_type": "code",
   "execution_count": 18,
   "id": "46fc2e3e-4afc-43d9-8ea1-99df6a80e3ab",
   "metadata": {},
   "outputs": [],
   "source": [
    "m = np.matrix(l)"
   ]
  },
  {
   "cell_type": "code",
   "execution_count": 19,
   "id": "47a26d11-58e5-4ff5-bb11-92fc8429ed1b",
   "metadata": {},
   "outputs": [
    {
     "data": {
      "text/plain": [
       "array([1, 2, 3, 4])"
      ]
     },
     "execution_count": 19,
     "metadata": {},
     "output_type": "execute_result"
    }
   ],
   "source": [
    "np.asanyarray(a)"
   ]
  },
  {
   "cell_type": "code",
   "execution_count": 20,
   "id": "c2d16a61-c93d-496c-a85c-0a24bcec1f2b",
   "metadata": {},
   "outputs": [
    {
     "data": {
      "text/plain": [
       "matrix([[1, 2, 3, 4]])"
      ]
     },
     "execution_count": 20,
     "metadata": {},
     "output_type": "execute_result"
    }
   ],
   "source": [
    "np.asanyarray(m)"
   ]
  },
  {
   "cell_type": "code",
   "execution_count": 21,
   "id": "010d4143-9757-4327-951c-aa3b72d77ab8",
   "metadata": {},
   "outputs": [],
   "source": [
    "# Shallow Copy\n",
    "# changes in a1 will be reflected in a and vice versa\n",
    "a1 = a"
   ]
  },
  {
   "cell_type": "code",
   "execution_count": 22,
   "id": "c6511d7f-0d03-4890-942e-c8d99c3dca07",
   "metadata": {},
   "outputs": [
    {
     "data": {
      "text/plain": [
       "array([1, 2, 3, 4])"
      ]
     },
     "execution_count": 22,
     "metadata": {},
     "output_type": "execute_result"
    }
   ],
   "source": [
    "a"
   ]
  },
  {
   "cell_type": "code",
   "execution_count": 23,
   "id": "9ae53ff3-e675-4cc6-88b4-9793051ff7ce",
   "metadata": {},
   "outputs": [
    {
     "data": {
      "text/plain": [
       "1"
      ]
     },
     "execution_count": 23,
     "metadata": {},
     "output_type": "execute_result"
    }
   ],
   "source": [
    "a[0]"
   ]
  },
  {
   "cell_type": "code",
   "execution_count": 24,
   "id": "698b32db-f047-467c-a0ba-1b3c7842cfdd",
   "metadata": {},
   "outputs": [],
   "source": [
    "a[0] = 10"
   ]
  },
  {
   "cell_type": "code",
   "execution_count": 25,
   "id": "618c00e9-890c-4f82-8972-abc1c486cc48",
   "metadata": {},
   "outputs": [
    {
     "data": {
      "text/plain": [
       "array([10,  2,  3,  4])"
      ]
     },
     "execution_count": 25,
     "metadata": {},
     "output_type": "execute_result"
    }
   ],
   "source": [
    "a"
   ]
  },
  {
   "cell_type": "code",
   "execution_count": 26,
   "id": "3ebc7229-9087-4670-8cd6-d595b3c452fb",
   "metadata": {},
   "outputs": [
    {
     "data": {
      "text/plain": [
       "array([10,  2,  3,  4])"
      ]
     },
     "execution_count": 26,
     "metadata": {},
     "output_type": "execute_result"
    }
   ],
   "source": [
    "a1"
   ]
  },
  {
   "cell_type": "code",
   "execution_count": 27,
   "id": "e554b407-4c73-4fb7-b7bf-d1c9efac0bd2",
   "metadata": {},
   "outputs": [],
   "source": [
    "# Deep copy -> np.copy() \n",
    "# changes in a2 will not reflect in a\n",
    "a2 = np.copy(a)"
   ]
  },
  {
   "cell_type": "code",
   "execution_count": 28,
   "id": "20343fbb-6b51-4d7c-a9f4-caf57f6a0f49",
   "metadata": {},
   "outputs": [
    {
     "data": {
      "text/plain": [
       "array([10,  2,  3,  4])"
      ]
     },
     "execution_count": 28,
     "metadata": {},
     "output_type": "execute_result"
    }
   ],
   "source": [
    "a2"
   ]
  },
  {
   "cell_type": "code",
   "execution_count": 29,
   "id": "10fd04d9-013a-4ef3-8d81-9cd8e1ca089d",
   "metadata": {},
   "outputs": [],
   "source": [
    "a2[2] = 30"
   ]
  },
  {
   "cell_type": "code",
   "execution_count": 30,
   "id": "b6e32ffa-ed63-4a7f-9702-4c8e34bc4714",
   "metadata": {},
   "outputs": [
    {
     "data": {
      "text/plain": [
       "array([10,  2, 30,  4])"
      ]
     },
     "execution_count": 30,
     "metadata": {},
     "output_type": "execute_result"
    }
   ],
   "source": [
    "a2"
   ]
  },
  {
   "cell_type": "code",
   "execution_count": 31,
   "id": "77c7c8f1-49e4-4e13-9454-0774f9138051",
   "metadata": {},
   "outputs": [
    {
     "data": {
      "text/plain": [
       "array([10,  2,  3,  4])"
      ]
     },
     "execution_count": 31,
     "metadata": {},
     "output_type": "execute_result"
    }
   ],
   "source": [
    "a"
   ]
  },
  {
   "cell_type": "code",
   "execution_count": 32,
   "id": "096778b2-8a6b-4a75-ab29-46804a64a1c7",
   "metadata": {},
   "outputs": [
    {
     "data": {
      "text/plain": [
       "array([[ True, False, False, False],\n",
       "       [False,  True, False, False],\n",
       "       [False, False,  True, False]])"
      ]
     },
     "execution_count": 32,
     "metadata": {},
     "output_type": "execute_result"
    }
   ],
   "source": [
    "np.fromfunction(lambda i,j : i==j, (3,4))\n",
    "# 3 - rows\n",
    "# 4 - columns\n",
    "# i = x axis\n",
    "# j = y axis\n",
    "# if i==j -> True\n",
    "# if i!-j -> False\n",
    "# Creates only 2D array"
   ]
  },
  {
   "cell_type": "code",
   "execution_count": 33,
   "id": "858f26ac-ccfe-4ade-a346-d336517209de",
   "metadata": {},
   "outputs": [
    {
     "data": {
      "text/plain": [
       "array([[0.46614685, 0.29234734, 0.25176093],\n",
       "       [0.2873817 , 0.45274794, 0.54170312]])"
      ]
     },
     "execution_count": 33,
     "metadata": {},
     "output_type": "execute_result"
    }
   ],
   "source": [
    "np.random.rand(2,3)\n",
    "# creates a array with 2 rows , 3 columns with random data."
   ]
  },
  {
   "cell_type": "code",
   "execution_count": 34,
   "id": "875b203e-9e94-4013-881f-988a1f2a2f73",
   "metadata": {},
   "outputs": [
    {
     "data": {
      "text/plain": [
       "array([[[0.57418663, 0.01779242, 0.14339533],\n",
       "        [0.91794448, 0.23391151, 0.92571385],\n",
       "        [0.38340012, 0.12899139, 0.32107563]],\n",
       "\n",
       "       [[0.43078687, 0.93426998, 0.16857991],\n",
       "        [0.11589216, 0.48151156, 0.3375222 ],\n",
       "        [0.37245852, 0.45723934, 0.53752914]]])"
      ]
     },
     "execution_count": 34,
     "metadata": {},
     "output_type": "execute_result"
    }
   ],
   "source": [
    "np.random.rand(2,3,3)\n",
    "# creates a matrix of 3 rows and 3 columns with 2 layers\n",
    "# i.e it created 3D array."
   ]
  },
  {
   "cell_type": "code",
   "execution_count": 35,
   "id": "27a2df36-1be7-49e2-a2ab-b4e0cd9dc5ff",
   "metadata": {},
   "outputs": [
    {
     "data": {
      "text/plain": [
       "array([[[ 0.10801474, -1.67918134,  0.73985803],\n",
       "        [ 1.85841842,  0.84846653, -0.3158177 ],\n",
       "        [-0.84126105,  0.66375024,  0.24300999]],\n",
       "\n",
       "       [[ 0.5736194 , -1.72058051,  1.16480065],\n",
       "        [ 0.06171373, -0.58609212,  0.72174674],\n",
       "        [-0.68317397,  1.48042342,  0.29391625]]])"
      ]
     },
     "execution_count": 35,
     "metadata": {},
     "output_type": "execute_result"
    }
   ],
   "source": [
    "np.random.randn(2,3,3)\n",
    "# random.randn creates a array with the standard normal distribution where mean = 0 & std deviation = 1"
   ]
  },
  {
   "cell_type": "code",
   "execution_count": 36,
   "id": "bd9f1249-1c40-445b-aa97-1ca49d66b9b4",
   "metadata": {},
   "outputs": [
    {
     "data": {
      "text/plain": [
       "7"
      ]
     },
     "execution_count": 36,
     "metadata": {},
     "output_type": "execute_result"
    }
   ],
   "source": [
    "np.random.randint(0,10)\n",
    "# gives random int between 0 and 10."
   ]
  },
  {
   "cell_type": "code",
   "execution_count": 37,
   "id": "0c297385-becf-4229-8d6e-11a8c4f6b9e1",
   "metadata": {},
   "outputs": [
    {
     "data": {
      "text/plain": [
       "array([[[4, 3, 6, 3],\n",
       "        [7, 4, 8, 6],\n",
       "        [7, 1, 3, 2],\n",
       "        [9, 8, 1, 6]],\n",
       "\n",
       "       [[1, 5, 9, 1],\n",
       "        [8, 9, 0, 6],\n",
       "        [5, 7, 8, 8],\n",
       "        [5, 3, 7, 4]],\n",
       "\n",
       "       [[8, 8, 3, 9],\n",
       "        [4, 1, 2, 3],\n",
       "        [7, 0, 4, 9],\n",
       "        [9, 0, 5, 0]],\n",
       "\n",
       "       [[1, 6, 2, 6],\n",
       "        [2, 6, 2, 5],\n",
       "        [9, 9, 2, 6],\n",
       "        [8, 6, 9, 8]]])"
      ]
     },
     "execution_count": 37,
     "metadata": {},
     "output_type": "execute_result"
    }
   ],
   "source": [
    "np.random.randint(0,10,(4,4,4))\n",
    "# it gives matrix of 4 X 2 which have values between 0 and 10."
   ]
  },
  {
   "cell_type": "code",
   "execution_count": 38,
   "id": "39b55a74-abf5-473a-8b6f-f9a51d697b9f",
   "metadata": {},
   "outputs": [],
   "source": [
    "d = np.random.randn(3,4)"
   ]
  },
  {
   "cell_type": "code",
   "execution_count": 39,
   "id": "d6e52360-a360-4bc3-9d3a-42269ff4046b",
   "metadata": {},
   "outputs": [
    {
     "data": {
      "text/plain": [
       "array([[-1.73315072, -1.11593848, -0.07666961,  1.93100562],\n",
       "       [-0.52942434,  1.19341496, -0.99689225, -1.22448361],\n",
       "       [ 0.14703976,  0.64029353,  0.69655343, -1.13016878]])"
      ]
     },
     "execution_count": 39,
     "metadata": {},
     "output_type": "execute_result"
    }
   ],
   "source": [
    "d"
   ]
  },
  {
   "cell_type": "code",
   "execution_count": 40,
   "id": "a6ab7a70-18e5-41b7-aa7a-acef8df2d979",
   "metadata": {},
   "outputs": [],
   "source": [
    "# lets convert np array into pandas dataframe\n",
    "\n",
    "import pandas as pd"
   ]
  },
  {
   "cell_type": "code",
   "execution_count": 41,
   "id": "5675e576-fedd-4e8a-9180-bf0c6154841d",
   "metadata": {},
   "outputs": [
    {
     "data": {
      "text/html": [
       "<div>\n",
       "<style scoped>\n",
       "    .dataframe tbody tr th:only-of-type {\n",
       "        vertical-align: middle;\n",
       "    }\n",
       "\n",
       "    .dataframe tbody tr th {\n",
       "        vertical-align: top;\n",
       "    }\n",
       "\n",
       "    .dataframe thead th {\n",
       "        text-align: right;\n",
       "    }\n",
       "</style>\n",
       "<table border=\"1\" class=\"dataframe\">\n",
       "  <thead>\n",
       "    <tr style=\"text-align: right;\">\n",
       "      <th></th>\n",
       "      <th>0</th>\n",
       "      <th>1</th>\n",
       "      <th>2</th>\n",
       "      <th>3</th>\n",
       "    </tr>\n",
       "  </thead>\n",
       "  <tbody>\n",
       "    <tr>\n",
       "      <th>0</th>\n",
       "      <td>-1.733151</td>\n",
       "      <td>-1.115938</td>\n",
       "      <td>-0.076670</td>\n",
       "      <td>1.931006</td>\n",
       "    </tr>\n",
       "    <tr>\n",
       "      <th>1</th>\n",
       "      <td>-0.529424</td>\n",
       "      <td>1.193415</td>\n",
       "      <td>-0.996892</td>\n",
       "      <td>-1.224484</td>\n",
       "    </tr>\n",
       "    <tr>\n",
       "      <th>2</th>\n",
       "      <td>0.147040</td>\n",
       "      <td>0.640294</td>\n",
       "      <td>0.696553</td>\n",
       "      <td>-1.130169</td>\n",
       "    </tr>\n",
       "  </tbody>\n",
       "</table>\n",
       "</div>"
      ],
      "text/plain": [
       "          0         1         2         3\n",
       "0 -1.733151 -1.115938 -0.076670  1.931006\n",
       "1 -0.529424  1.193415 -0.996892 -1.224484\n",
       "2  0.147040  0.640294  0.696553 -1.130169"
      ]
     },
     "execution_count": 41,
     "metadata": {},
     "output_type": "execute_result"
    }
   ],
   "source": [
    "pd.DataFrame(d)"
   ]
  },
  {
   "cell_type": "code",
   "execution_count": 42,
   "id": "7c3065f8-a550-4ac6-9509-6409c3c0c80b",
   "metadata": {},
   "outputs": [],
   "source": [
    "d1 = np.random.randint(0,10,(4,4,4))\n"
   ]
  },
  {
   "cell_type": "code",
   "execution_count": 44,
   "id": "af54cb8d-1941-46cf-aff9-86c92ee4a1cb",
   "metadata": {},
   "outputs": [
    {
     "ename": "ValueError",
     "evalue": "Must pass 2-d input. shape=(4, 4, 4)",
     "output_type": "error",
     "traceback": [
      "\u001b[0;31m---------------------------------------------------------------------------\u001b[0m",
      "\u001b[0;31mValueError\u001b[0m                                Traceback (most recent call last)",
      "Cell \u001b[0;32mIn [44], line 1\u001b[0m\n\u001b[0;32m----> 1\u001b[0m \u001b[43mpd\u001b[49m\u001b[38;5;241;43m.\u001b[39;49m\u001b[43mDataFrame\u001b[49m\u001b[43m(\u001b[49m\u001b[43md1\u001b[49m\u001b[43m)\u001b[49m\n",
      "File \u001b[0;32m/opt/conda/lib/python3.10/site-packages/pandas/core/frame.py:720\u001b[0m, in \u001b[0;36mDataFrame.__init__\u001b[0;34m(self, data, index, columns, dtype, copy)\u001b[0m\n\u001b[1;32m    710\u001b[0m         mgr \u001b[38;5;241m=\u001b[39m dict_to_mgr(\n\u001b[1;32m    711\u001b[0m             \u001b[38;5;66;03m# error: Item \"ndarray\" of \"Union[ndarray, Series, Index]\" has no\u001b[39;00m\n\u001b[1;32m    712\u001b[0m             \u001b[38;5;66;03m# attribute \"name\"\u001b[39;00m\n\u001b[0;32m   (...)\u001b[0m\n\u001b[1;32m    717\u001b[0m             typ\u001b[38;5;241m=\u001b[39mmanager,\n\u001b[1;32m    718\u001b[0m         )\n\u001b[1;32m    719\u001b[0m     \u001b[38;5;28;01melse\u001b[39;00m:\n\u001b[0;32m--> 720\u001b[0m         mgr \u001b[38;5;241m=\u001b[39m \u001b[43mndarray_to_mgr\u001b[49m\u001b[43m(\u001b[49m\n\u001b[1;32m    721\u001b[0m \u001b[43m            \u001b[49m\u001b[43mdata\u001b[49m\u001b[43m,\u001b[49m\n\u001b[1;32m    722\u001b[0m \u001b[43m            \u001b[49m\u001b[43mindex\u001b[49m\u001b[43m,\u001b[49m\n\u001b[1;32m    723\u001b[0m \u001b[43m            \u001b[49m\u001b[43mcolumns\u001b[49m\u001b[43m,\u001b[49m\n\u001b[1;32m    724\u001b[0m \u001b[43m            \u001b[49m\u001b[43mdtype\u001b[49m\u001b[38;5;241;43m=\u001b[39;49m\u001b[43mdtype\u001b[49m\u001b[43m,\u001b[49m\n\u001b[1;32m    725\u001b[0m \u001b[43m            \u001b[49m\u001b[43mcopy\u001b[49m\u001b[38;5;241;43m=\u001b[39;49m\u001b[43mcopy\u001b[49m\u001b[43m,\u001b[49m\n\u001b[1;32m    726\u001b[0m \u001b[43m            \u001b[49m\u001b[43mtyp\u001b[49m\u001b[38;5;241;43m=\u001b[39;49m\u001b[43mmanager\u001b[49m\u001b[43m,\u001b[49m\n\u001b[1;32m    727\u001b[0m \u001b[43m        \u001b[49m\u001b[43m)\u001b[49m\n\u001b[1;32m    729\u001b[0m \u001b[38;5;66;03m# For data is list-like, or Iterable (will consume into list)\u001b[39;00m\n\u001b[1;32m    730\u001b[0m \u001b[38;5;28;01melif\u001b[39;00m is_list_like(data):\n",
      "File \u001b[0;32m/opt/conda/lib/python3.10/site-packages/pandas/core/internals/construction.py:329\u001b[0m, in \u001b[0;36mndarray_to_mgr\u001b[0;34m(values, index, columns, dtype, copy, typ)\u001b[0m\n\u001b[1;32m    324\u001b[0m         values \u001b[38;5;241m=\u001b[39m values\u001b[38;5;241m.\u001b[39mreshape(\u001b[38;5;241m-\u001b[39m\u001b[38;5;241m1\u001b[39m, \u001b[38;5;241m1\u001b[39m)\n\u001b[1;32m    326\u001b[0m \u001b[38;5;28;01melse\u001b[39;00m:\n\u001b[1;32m    327\u001b[0m     \u001b[38;5;66;03m# by definition an array here\u001b[39;00m\n\u001b[1;32m    328\u001b[0m     \u001b[38;5;66;03m# the dtypes will be coerced to a single dtype\u001b[39;00m\n\u001b[0;32m--> 329\u001b[0m     values \u001b[38;5;241m=\u001b[39m \u001b[43m_prep_ndarraylike\u001b[49m\u001b[43m(\u001b[49m\u001b[43mvalues\u001b[49m\u001b[43m,\u001b[49m\u001b[43m \u001b[49m\u001b[43mcopy\u001b[49m\u001b[38;5;241;43m=\u001b[39;49m\u001b[43mcopy_on_sanitize\u001b[49m\u001b[43m)\u001b[49m\n\u001b[1;32m    331\u001b[0m \u001b[38;5;28;01mif\u001b[39;00m dtype \u001b[38;5;129;01mis\u001b[39;00m \u001b[38;5;129;01mnot\u001b[39;00m \u001b[38;5;28;01mNone\u001b[39;00m \u001b[38;5;129;01mand\u001b[39;00m \u001b[38;5;129;01mnot\u001b[39;00m is_dtype_equal(values\u001b[38;5;241m.\u001b[39mdtype, dtype):\n\u001b[1;32m    332\u001b[0m     \u001b[38;5;66;03m# GH#40110 see similar check inside sanitize_array\u001b[39;00m\n\u001b[1;32m    333\u001b[0m     rcf \u001b[38;5;241m=\u001b[39m \u001b[38;5;129;01mnot\u001b[39;00m (is_integer_dtype(dtype) \u001b[38;5;129;01mand\u001b[39;00m values\u001b[38;5;241m.\u001b[39mdtype\u001b[38;5;241m.\u001b[39mkind \u001b[38;5;241m==\u001b[39m \u001b[38;5;124m\"\u001b[39m\u001b[38;5;124mf\u001b[39m\u001b[38;5;124m\"\u001b[39m)\n",
      "File \u001b[0;32m/opt/conda/lib/python3.10/site-packages/pandas/core/internals/construction.py:583\u001b[0m, in \u001b[0;36m_prep_ndarraylike\u001b[0;34m(values, copy)\u001b[0m\n\u001b[1;32m    581\u001b[0m     values \u001b[38;5;241m=\u001b[39m values\u001b[38;5;241m.\u001b[39mreshape((values\u001b[38;5;241m.\u001b[39mshape[\u001b[38;5;241m0\u001b[39m], \u001b[38;5;241m1\u001b[39m))\n\u001b[1;32m    582\u001b[0m \u001b[38;5;28;01melif\u001b[39;00m values\u001b[38;5;241m.\u001b[39mndim \u001b[38;5;241m!=\u001b[39m \u001b[38;5;241m2\u001b[39m:\n\u001b[0;32m--> 583\u001b[0m     \u001b[38;5;28;01mraise\u001b[39;00m \u001b[38;5;167;01mValueError\u001b[39;00m(\u001b[38;5;124mf\u001b[39m\u001b[38;5;124m\"\u001b[39m\u001b[38;5;124mMust pass 2-d input. shape=\u001b[39m\u001b[38;5;132;01m{\u001b[39;00mvalues\u001b[38;5;241m.\u001b[39mshape\u001b[38;5;132;01m}\u001b[39;00m\u001b[38;5;124m\"\u001b[39m)\n\u001b[1;32m    585\u001b[0m \u001b[38;5;28;01mreturn\u001b[39;00m values\n",
      "\u001b[0;31mValueError\u001b[0m: Must pass 2-d input. shape=(4, 4, 4)"
     ]
    }
   ],
   "source": [
    "pd.DataFrame(d1)\n",
    "# So it cannot convert 3d data into Data Frame"
   ]
  },
  {
   "cell_type": "code",
   "execution_count": 53,
   "id": "72bb1ea4-6945-4a53-a372-cff389ce6e58",
   "metadata": {},
   "outputs": [
    {
     "data": {
      "text/plain": [
       "array([[4, 4, 3, 8],\n",
       "       [3, 1, 7, 3],\n",
       "       [6, 6, 1, 9],\n",
       "       [0, 8, 6, 4],\n",
       "       [7, 4, 5, 9],\n",
       "       [3, 9, 5, 0],\n",
       "       [8, 7, 6, 8],\n",
       "       [1, 9, 6, 0],\n",
       "       [7, 3, 1, 8],\n",
       "       [8, 4, 2, 7],\n",
       "       [8, 5, 8, 8],\n",
       "       [0, 7, 0, 0],\n",
       "       [2, 5, 5, 9],\n",
       "       [9, 2, 4, 0],\n",
       "       [8, 6, 9, 6],\n",
       "       [4, 5, 2, 8]])"
      ]
     },
     "execution_count": 53,
     "metadata": {},
     "output_type": "execute_result"
    }
   ],
   "source": [
    "# Using reshape function we can do it.\n",
    "# d1 has total 64 elements, which we need to reshape into 2d array\n",
    "# so we can do it 16*4, 32*2 ,etc.\n",
    "# then we can use pandas DataFrame function to convert into Data Frame.\n",
    "# 1st arrgument = rows & 2md argument = columns\n",
    "d1.reshape(16,4)"
   ]
  },
  {
   "cell_type": "code",
   "execution_count": 54,
   "id": "34b596d1-948d-4c25-bf59-563b36326c9d",
   "metadata": {},
   "outputs": [
    {
     "data": {
      "text/html": [
       "<div>\n",
       "<style scoped>\n",
       "    .dataframe tbody tr th:only-of-type {\n",
       "        vertical-align: middle;\n",
       "    }\n",
       "\n",
       "    .dataframe tbody tr th {\n",
       "        vertical-align: top;\n",
       "    }\n",
       "\n",
       "    .dataframe thead th {\n",
       "        text-align: right;\n",
       "    }\n",
       "</style>\n",
       "<table border=\"1\" class=\"dataframe\">\n",
       "  <thead>\n",
       "    <tr style=\"text-align: right;\">\n",
       "      <th></th>\n",
       "      <th>0</th>\n",
       "      <th>1</th>\n",
       "      <th>2</th>\n",
       "      <th>3</th>\n",
       "    </tr>\n",
       "  </thead>\n",
       "  <tbody>\n",
       "    <tr>\n",
       "      <th>0</th>\n",
       "      <td>4</td>\n",
       "      <td>4</td>\n",
       "      <td>3</td>\n",
       "      <td>8</td>\n",
       "    </tr>\n",
       "    <tr>\n",
       "      <th>1</th>\n",
       "      <td>3</td>\n",
       "      <td>1</td>\n",
       "      <td>7</td>\n",
       "      <td>3</td>\n",
       "    </tr>\n",
       "    <tr>\n",
       "      <th>2</th>\n",
       "      <td>6</td>\n",
       "      <td>6</td>\n",
       "      <td>1</td>\n",
       "      <td>9</td>\n",
       "    </tr>\n",
       "    <tr>\n",
       "      <th>3</th>\n",
       "      <td>0</td>\n",
       "      <td>8</td>\n",
       "      <td>6</td>\n",
       "      <td>4</td>\n",
       "    </tr>\n",
       "    <tr>\n",
       "      <th>4</th>\n",
       "      <td>7</td>\n",
       "      <td>4</td>\n",
       "      <td>5</td>\n",
       "      <td>9</td>\n",
       "    </tr>\n",
       "    <tr>\n",
       "      <th>5</th>\n",
       "      <td>3</td>\n",
       "      <td>9</td>\n",
       "      <td>5</td>\n",
       "      <td>0</td>\n",
       "    </tr>\n",
       "    <tr>\n",
       "      <th>6</th>\n",
       "      <td>8</td>\n",
       "      <td>7</td>\n",
       "      <td>6</td>\n",
       "      <td>8</td>\n",
       "    </tr>\n",
       "    <tr>\n",
       "      <th>7</th>\n",
       "      <td>1</td>\n",
       "      <td>9</td>\n",
       "      <td>6</td>\n",
       "      <td>0</td>\n",
       "    </tr>\n",
       "    <tr>\n",
       "      <th>8</th>\n",
       "      <td>7</td>\n",
       "      <td>3</td>\n",
       "      <td>1</td>\n",
       "      <td>8</td>\n",
       "    </tr>\n",
       "    <tr>\n",
       "      <th>9</th>\n",
       "      <td>8</td>\n",
       "      <td>4</td>\n",
       "      <td>2</td>\n",
       "      <td>7</td>\n",
       "    </tr>\n",
       "    <tr>\n",
       "      <th>10</th>\n",
       "      <td>8</td>\n",
       "      <td>5</td>\n",
       "      <td>8</td>\n",
       "      <td>8</td>\n",
       "    </tr>\n",
       "    <tr>\n",
       "      <th>11</th>\n",
       "      <td>0</td>\n",
       "      <td>7</td>\n",
       "      <td>0</td>\n",
       "      <td>0</td>\n",
       "    </tr>\n",
       "    <tr>\n",
       "      <th>12</th>\n",
       "      <td>2</td>\n",
       "      <td>5</td>\n",
       "      <td>5</td>\n",
       "      <td>9</td>\n",
       "    </tr>\n",
       "    <tr>\n",
       "      <th>13</th>\n",
       "      <td>9</td>\n",
       "      <td>2</td>\n",
       "      <td>4</td>\n",
       "      <td>0</td>\n",
       "    </tr>\n",
       "    <tr>\n",
       "      <th>14</th>\n",
       "      <td>8</td>\n",
       "      <td>6</td>\n",
       "      <td>9</td>\n",
       "      <td>6</td>\n",
       "    </tr>\n",
       "    <tr>\n",
       "      <th>15</th>\n",
       "      <td>4</td>\n",
       "      <td>5</td>\n",
       "      <td>2</td>\n",
       "      <td>8</td>\n",
       "    </tr>\n",
       "  </tbody>\n",
       "</table>\n",
       "</div>"
      ],
      "text/plain": [
       "    0  1  2  3\n",
       "0   4  4  3  8\n",
       "1   3  1  7  3\n",
       "2   6  6  1  9\n",
       "3   0  8  6  4\n",
       "4   7  4  5  9\n",
       "5   3  9  5  0\n",
       "6   8  7  6  8\n",
       "7   1  9  6  0\n",
       "8   7  3  1  8\n",
       "9   8  4  2  7\n",
       "10  8  5  8  8\n",
       "11  0  7  0  0\n",
       "12  2  5  5  9\n",
       "13  9  2  4  0\n",
       "14  8  6  9  6\n",
       "15  4  5  2  8"
      ]
     },
     "execution_count": 54,
     "metadata": {},
     "output_type": "execute_result"
    }
   ],
   "source": [
    "pd.DataFrame(d1.reshape(16,4))"
   ]
  },
  {
   "cell_type": "code",
   "execution_count": 55,
   "id": "60da9303-03a4-44c4-babc-c434131bc30f",
   "metadata": {},
   "outputs": [
    {
     "data": {
      "text/plain": [
       "array([[4, 4, 3, 8, 3, 1, 7, 3],\n",
       "       [6, 6, 1, 9, 0, 8, 6, 4],\n",
       "       [7, 4, 5, 9, 3, 9, 5, 0],\n",
       "       [8, 7, 6, 8, 1, 9, 6, 0],\n",
       "       [7, 3, 1, 8, 8, 4, 2, 7],\n",
       "       [8, 5, 8, 8, 0, 7, 0, 0],\n",
       "       [2, 5, 5, 9, 9, 2, 4, 0],\n",
       "       [8, 6, 9, 6, 4, 5, 2, 8]])"
      ]
     },
     "execution_count": 55,
     "metadata": {},
     "output_type": "execute_result"
    }
   ],
   "source": [
    "# we can also reshape any array by passing a second argument of reshape as -ve number.\n",
    "# Basically, -ve will identyfy the missing value and fill it automatically to convert the array into 2d array.\n",
    "\n",
    "d1.reshape(8,-1)"
   ]
  },
  {
   "cell_type": "code",
   "execution_count": 52,
   "id": "997a53bc-d33e-493e-94bf-711085af43b7",
   "metadata": {},
   "outputs": [
    {
     "data": {
      "text/plain": [
       "array([[4, 4, 3, 8, 3, 1, 7, 3, 6, 6, 1, 9, 0, 8, 6, 4],\n",
       "       [7, 4, 5, 9, 3, 9, 5, 0, 8, 7, 6, 8, 1, 9, 6, 0],\n",
       "       [7, 3, 1, 8, 8, 4, 2, 7, 8, 5, 8, 8, 0, 7, 0, 0],\n",
       "       [2, 5, 5, 9, 9, 2, 4, 0, 8, 6, 9, 6, 4, 5, 2, 8]])"
      ]
     },
     "execution_count": 52,
     "metadata": {},
     "output_type": "execute_result"
    }
   ],
   "source": [
    "d1.reshape(4,-100)"
   ]
  },
  {
   "cell_type": "code",
   "execution_count": 58,
   "id": "c101dc62-e34b-4a2f-ac1e-27593e0622ce",
   "metadata": {},
   "outputs": [
    {
     "data": {
      "text/plain": [
       "array([[[4, 4, 3, 8],\n",
       "        [3, 1, 7, 3],\n",
       "        [6, 6, 1, 9],\n",
       "        [0, 8, 6, 4]],\n",
       "\n",
       "       [[7, 4, 5, 9],\n",
       "        [3, 9, 5, 0],\n",
       "        [8, 7, 6, 8],\n",
       "        [1, 9, 6, 0]],\n",
       "\n",
       "       [[7, 3, 1, 8],\n",
       "        [8, 4, 2, 7],\n",
       "        [8, 5, 8, 8],\n",
       "        [0, 7, 0, 0]],\n",
       "\n",
       "       [[2, 5, 5, 9],\n",
       "        [9, 2, 4, 0],\n",
       "        [8, 6, 9, 6],\n",
       "        [4, 5, 2, 8]]])"
      ]
     },
     "execution_count": 58,
     "metadata": {},
     "output_type": "execute_result"
    }
   ],
   "source": [
    "d1 # the reshape is temparary, we need to store it in any variable."
   ]
  },
  {
   "cell_type": "code",
   "execution_count": 59,
   "id": "bb628847-5c43-4aba-bbf2-ee49426e1381",
   "metadata": {},
   "outputs": [],
   "source": [
    "d2 = d1.reshape(4,-100)"
   ]
  },
  {
   "cell_type": "code",
   "execution_count": 60,
   "id": "4f489d3f-29f9-4a7b-8ff5-9594e26ee0f4",
   "metadata": {},
   "outputs": [
    {
     "data": {
      "text/plain": [
       "array([[4, 4, 3, 8, 3, 1, 7, 3, 6, 6, 1, 9, 0, 8, 6, 4],\n",
       "       [7, 4, 5, 9, 3, 9, 5, 0, 8, 7, 6, 8, 1, 9, 6, 0],\n",
       "       [7, 3, 1, 8, 8, 4, 2, 7, 8, 5, 8, 8, 0, 7, 0, 0],\n",
       "       [2, 5, 5, 9, 9, 2, 4, 0, 8, 6, 9, 6, 4, 5, 2, 8]])"
      ]
     },
     "execution_count": 60,
     "metadata": {},
     "output_type": "execute_result"
    }
   ],
   "source": [
    "d2"
   ]
  },
  {
   "cell_type": "code",
   "execution_count": 61,
   "id": "9f4b9a36-8195-4036-bbf5-81e8f6ef95f3",
   "metadata": {},
   "outputs": [
    {
     "data": {
      "text/html": [
       "<div>\n",
       "<style scoped>\n",
       "    .dataframe tbody tr th:only-of-type {\n",
       "        vertical-align: middle;\n",
       "    }\n",
       "\n",
       "    .dataframe tbody tr th {\n",
       "        vertical-align: top;\n",
       "    }\n",
       "\n",
       "    .dataframe thead th {\n",
       "        text-align: right;\n",
       "    }\n",
       "</style>\n",
       "<table border=\"1\" class=\"dataframe\">\n",
       "  <thead>\n",
       "    <tr style=\"text-align: right;\">\n",
       "      <th></th>\n",
       "      <th>0</th>\n",
       "      <th>1</th>\n",
       "      <th>2</th>\n",
       "      <th>3</th>\n",
       "      <th>4</th>\n",
       "      <th>5</th>\n",
       "      <th>6</th>\n",
       "      <th>7</th>\n",
       "      <th>8</th>\n",
       "      <th>9</th>\n",
       "      <th>10</th>\n",
       "      <th>11</th>\n",
       "      <th>12</th>\n",
       "      <th>13</th>\n",
       "      <th>14</th>\n",
       "      <th>15</th>\n",
       "    </tr>\n",
       "  </thead>\n",
       "  <tbody>\n",
       "    <tr>\n",
       "      <th>0</th>\n",
       "      <td>4</td>\n",
       "      <td>4</td>\n",
       "      <td>3</td>\n",
       "      <td>8</td>\n",
       "      <td>3</td>\n",
       "      <td>1</td>\n",
       "      <td>7</td>\n",
       "      <td>3</td>\n",
       "      <td>6</td>\n",
       "      <td>6</td>\n",
       "      <td>1</td>\n",
       "      <td>9</td>\n",
       "      <td>0</td>\n",
       "      <td>8</td>\n",
       "      <td>6</td>\n",
       "      <td>4</td>\n",
       "    </tr>\n",
       "    <tr>\n",
       "      <th>1</th>\n",
       "      <td>7</td>\n",
       "      <td>4</td>\n",
       "      <td>5</td>\n",
       "      <td>9</td>\n",
       "      <td>3</td>\n",
       "      <td>9</td>\n",
       "      <td>5</td>\n",
       "      <td>0</td>\n",
       "      <td>8</td>\n",
       "      <td>7</td>\n",
       "      <td>6</td>\n",
       "      <td>8</td>\n",
       "      <td>1</td>\n",
       "      <td>9</td>\n",
       "      <td>6</td>\n",
       "      <td>0</td>\n",
       "    </tr>\n",
       "    <tr>\n",
       "      <th>2</th>\n",
       "      <td>7</td>\n",
       "      <td>3</td>\n",
       "      <td>1</td>\n",
       "      <td>8</td>\n",
       "      <td>8</td>\n",
       "      <td>4</td>\n",
       "      <td>2</td>\n",
       "      <td>7</td>\n",
       "      <td>8</td>\n",
       "      <td>5</td>\n",
       "      <td>8</td>\n",
       "      <td>8</td>\n",
       "      <td>0</td>\n",
       "      <td>7</td>\n",
       "      <td>0</td>\n",
       "      <td>0</td>\n",
       "    </tr>\n",
       "    <tr>\n",
       "      <th>3</th>\n",
       "      <td>2</td>\n",
       "      <td>5</td>\n",
       "      <td>5</td>\n",
       "      <td>9</td>\n",
       "      <td>9</td>\n",
       "      <td>2</td>\n",
       "      <td>4</td>\n",
       "      <td>0</td>\n",
       "      <td>8</td>\n",
       "      <td>6</td>\n",
       "      <td>9</td>\n",
       "      <td>6</td>\n",
       "      <td>4</td>\n",
       "      <td>5</td>\n",
       "      <td>2</td>\n",
       "      <td>8</td>\n",
       "    </tr>\n",
       "  </tbody>\n",
       "</table>\n",
       "</div>"
      ],
      "text/plain": [
       "   0   1   2   3   4   5   6   7   8   9   10  11  12  13  14  15\n",
       "0   4   4   3   8   3   1   7   3   6   6   1   9   0   8   6   4\n",
       "1   7   4   5   9   3   9   5   0   8   7   6   8   1   9   6   0\n",
       "2   7   3   1   8   8   4   2   7   8   5   8   8   0   7   0   0\n",
       "3   2   5   5   9   9   2   4   0   8   6   9   6   4   5   2   8"
      ]
     },
     "execution_count": 61,
     "metadata": {},
     "output_type": "execute_result"
    }
   ],
   "source": [
    "pd.DataFrame(d2)"
   ]
  }
 ],
 "metadata": {
  "kernelspec": {
   "display_name": "Python 3 (ipykernel)",
   "language": "python",
   "name": "python3"
  },
  "language_info": {
   "codemirror_mode": {
    "name": "ipython",
    "version": 3
   },
   "file_extension": ".py",
   "mimetype": "text/x-python",
   "name": "python",
   "nbconvert_exporter": "python",
   "pygments_lexer": "ipython3",
   "version": "3.10.6"
  }
 },
 "nbformat": 4,
 "nbformat_minor": 5
}
